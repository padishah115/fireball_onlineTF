{
 "cells": [
  {
   "cell_type": "code",
   "execution_count": 1,
   "id": "9f5786aa",
   "metadata": {},
   "outputs": [
    {
     "data": {
      "text/plain": [
       "{'cam': {'data': True}}"
      ]
     },
     "execution_count": 1,
     "metadata": {},
     "output_type": "execute_result"
    }
   ],
   "source": [
    "myDict = {\"cam\" : {}}\n",
    "\n",
    "myDict[\"cam\"][\"data\"] = True\n",
    "\n",
    "myDict"
   ]
  },
  {
   "cell_type": "code",
   "execution_count": null,
   "id": "6933460e",
   "metadata": {},
   "outputs": [],
   "source": [
    "li =[\"hello\", \"world\"]\n",
    "li = "
   ]
  }
 ],
 "metadata": {
  "kernelspec": {
   "display_name": "Python 3",
   "language": "python",
   "name": "python3"
  },
  "language_info": {
   "codemirror_mode": {
    "name": "ipython",
    "version": 3
   },
   "file_extension": ".py",
   "mimetype": "text/x-python",
   "name": "python",
   "nbconvert_exporter": "python",
   "pygments_lexer": "ipython3",
   "version": "3.11.9"
  }
 },
 "nbformat": 4,
 "nbformat_minor": 5
}
