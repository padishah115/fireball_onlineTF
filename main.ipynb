{
 "cells": [
  {
   "cell_type": "code",
   "execution_count": null,
   "id": "0dc7d0b6",
   "metadata": {},
   "outputs": [],
   "source": [
    "from main import main as execute"
   ]
  },
  {
   "cell_type": "code",
   "execution_count": null,
   "id": "38770ad2",
   "metadata": {},
   "outputs": [],
   "source": [
    "input = {\n",
    "    \"DEVICE_NAME\": \"CAM3\",\n",
    "    \"DEVICE_TYPE\": \"CAMERA\",\n",
    "    \n",
    "    \"DEVICE_SPECIES\": \"DIGICAM\",\n",
    "    \n",
    "    \"EXP_SHOT_NOS\": [3],\n",
    "    \"BKG_SHOT_NOS\": [1],\n",
    "    \n",
    "    \"BKG_NAME\": \"DARKFIELD\",\n",
    "    \"BACKGROUND_STATUS\": \"RAW\",\n",
    "    \n",
    "    \"OPERATIONS\": {\n",
    "        \n",
    "        \"PLOT\": True,\n",
    "        \n",
    "        \"AVERAGE_SHOTS\":False\n",
    "        \n",
    "    }\n",
    "}"
   ]
  },
  {
   "cell_type": "code",
   "execution_count": null,
   "id": "dafedbb0",
   "metadata": {},
   "outputs": [],
   "source": [
    "digicam3_path_dict = {}\n",
    "digicam4_path_dict = {}\n",
    "digicam5_path_dict = {}\n",
    "digicam6_path_dict = {}\n",
    "\n",
    "bd1_path_dict = {}\n",
    "bd2_path_dict = {}\n",
    "fp_path_dict = {}\n",
    "\n",
    "andor_paths_dict = {}\n",
    "\n",
    "orca_paths_dict = {}"
   ]
  },
  {
   "cell_type": "code",
   "execution_count": null,
   "id": "a25d3624",
   "metadata": {},
   "outputs": [],
   "source": [
    "execute()"
   ]
  }
 ],
 "metadata": {
  "language_info": {
   "name": "python"
  }
 },
 "nbformat": 4,
 "nbformat_minor": 5
}
