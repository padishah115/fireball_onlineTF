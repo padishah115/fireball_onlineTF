{
 "cells": [
  {
   "cell_type": "code",
   "execution_count": 1,
   "id": "0dc7d0b6",
   "metadata": {},
   "outputs": [],
   "source": [
    "from main import main as execute\n",
    "\n",
    "import os\n",
    "import pandas as pd\n",
    "from typing import List, Dict, Tuple"
   ]
  },
  {
   "cell_type": "code",
   "execution_count": 2,
   "id": "38770ad2",
   "metadata": {},
   "outputs": [],
   "source": [
    "################################################\n",
    "# INPUT CONFIGURATION- REPLACES OLD .JSON FILE #\n",
    "################################################\n",
    "\n",
    "input = {\n",
    "    \"DEVICE_NAME\": \"CAM3\",\n",
    "    \"DEVICE_TYPE\": \"CAMERA\",\n",
    "    \n",
    "    \"DEVICE_SPECIES\": \"DIGICAM\",\n",
    "    \n",
    "    \"EXP_SHOT_NOS\": [3],\n",
    "    \"BKG_SHOT_NOS\": [1],\n",
    "    \n",
    "    \"BKG_NAME\": \"DARKFIELD\",\n",
    "    \"BACKGROUND_STATUS\": \"RAW\",\n",
    "    \n",
    "    \"OPERATIONS\": {\n",
    "        \n",
    "        \"PLOT\": True,\n",
    "        \n",
    "        \"AVERAGE_SHOTS\":False\n",
    "        \n",
    "    }\n",
    "}"
   ]
  },
  {
   "cell_type": "code",
   "execution_count": 3,
   "id": "a25d3624",
   "metadata": {},
   "outputs": [],
   "source": [
    "# Parent data path\n",
    "data_path = '/eos/project/h/hiradmat/HRMT Experiments/2024/FIREBALL2/FB2_HRMT64_repository/HRMT64 data'\n",
    "\n",
    "# Check to make sure that the parent data path actually exists.\n",
    "if not os.path.exists(data_path):\n",
    "    raise NotImplementedError(\"Error: parent data_path doesn't exist.\")"
   ]
  },
  {
   "cell_type": "code",
   "execution_count": 10,
   "id": "5766afd1-a0b2-4086-b243-e71c4949538b",
   "metadata": {},
   "outputs": [],
   "source": [
    "# Path to shot log\n",
    "shotlog_path = \"./example_data/shotlog.csv\"\n",
    "\n",
    "if not os.path.exists(shotlog_path):\n",
    "    raise NotImplementedError(\"Error: path to shot log not found.\")"
   ]
  },
  {
   "cell_type": "code",
   "execution_count": 5,
   "id": "8248703b-5ef0-4a06-85b4-ed37db718020",
   "metadata": {},
   "outputs": [],
   "source": [
    "# List of subdirectories in parent data path which should\n",
    "folders = [\"SCOPE1\", \"SCOPE2\", \"EP_Spectrometer_Cams\", \"PlasmaCell_Cams\"]"
   ]
  },
  {
   "cell_type": "code",
   "execution_count": 6,
   "id": "0ae63a71-f005-422c-afb4-b32f8da3835f",
   "metadata": {},
   "outputs": [],
   "source": [
    "# Make sure all of the folders actually exist.\n",
    "for folder in folders:\n",
    "    new_path = os.path.join(data_path, folder)\n",
    "    if not os.path.exists(new_path):\n",
    "        raise NotImplementedError(f\"Path {new_path} to folder {folder} does not exist.\\n\")"
   ]
  },
  {
   "cell_type": "code",
   "execution_count": null,
   "id": "a6e9d04e-48e5-46c9-8085-e019ab67e677",
   "metadata": {},
   "outputs": [],
   "source": [
    "# Template file names at which the data will be stored\n",
    "\n",
    "template_fnames = {\n",
    "    \"DIGICAM\": 'HRM{}.DigiCam_OD{}_{}_{}.csv',\n",
    "    \"PROBE\": 'C{}_SCOPE{}_{}.csv'\n",
    "}"
   ]
  }
 ],
 "metadata": {
  "kernelspec": {
   "display_name": "Python 3",
   "language": "python",
   "name": "python3"
  },
  "language_info": {
   "codemirror_mode": {
    "name": "ipython",
    "version": 3
   },
   "file_extension": ".py",
   "mimetype": "text/x-python",
   "name": "python",
   "nbconvert_exporter": "python",
   "pygments_lexer": "ipython3",
   "version": "3.11.9"
  }
 },
 "nbformat": 4,
 "nbformat_minor": 5
}
