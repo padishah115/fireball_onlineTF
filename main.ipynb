{
 "cells": [
  {
   "cell_type": "code",
   "execution_count": 1,
   "id": "0dc7d0b6",
   "metadata": {},
   "outputs": [],
   "source": [
    "from main import main as execute\n",
    "\n",
    "import os\n",
    "import pandas as pd\n",
    "from typing import List, Dict, Tuple"
   ]
  },
  {
   "cell_type": "code",
   "execution_count": 2,
   "id": "38770ad2",
   "metadata": {},
   "outputs": [],
   "source": [
    "################################################\n",
    "# INPUT CONFIGURATION- REPLACES OLD .JSON FILE #\n",
    "################################################\n",
    "\n",
    "input = {\n",
    "    \"DEVICE_NAME\": \"CAM3\",\n",
    "    \"DEVICE_TYPE\": \"CAMERA\",\n",
    "    \n",
    "    \"DEVICE_SPECIES\": \"DIGICAM\",\n",
    "    \n",
    "    \"EXP_SHOT_NOS\": [3],\n",
    "    \"BKG_SHOT_NOS\": [1],\n",
    "    \n",
    "    \"BKG_NAME\": \"DARKFIELD\",\n",
    "    \"BACKGROUND_STATUS\": \"RAW\",\n",
    "    \n",
    "    \"OPERATIONS\": {\n",
    "        \n",
    "        \"PLOT\": True,\n",
    "        \n",
    "        \"AVERAGE_SHOTS\":False\n",
    "        \n",
    "    }\n",
    "}"
   ]
  },
  {
   "cell_type": "code",
   "execution_count": 3,
   "id": "a25d3624",
   "metadata": {},
   "outputs": [],
   "source": [
    "# Parent data path\n",
    "data_path = '/eos/project/h/hiradmat/HRMT Experiments/2024/FIREBALL2/FB2_HRMT64_repository/HRMT64 data'\n",
    "\n",
    "# Check to make sure that the parent data path actually exists.\n",
    "if not os.path.exists(data_path):\n",
    "    raise NotImplementedError(\"Error: parent data_path doesn't exist.\")"
   ]
  },
  {
   "cell_type": "code",
   "execution_count": 10,
   "id": "5766afd1-a0b2-4086-b243-e71c4949538b",
   "metadata": {},
   "outputs": [],
   "source": [
    "# Path to shot log\n",
    "shotlog_path = \"./example_data/shotlog.csv\"\n",
    "\n",
    "if not os.path.exists(shotlog_path):\n",
    "    raise NotImplementedError(\"Error: path to shot log not found.\")"
   ]
  },
  {
   "cell_type": "code",
   "execution_count": 5,
   "id": "8248703b-5ef0-4a06-85b4-ed37db718020",
   "metadata": {},
   "outputs": [],
   "source": [
    "# List of subdirectories in parent data path which should\n",
    "folders = [\"SCOPE1\", \"SCOPE2\", \"EP_Spectrometer_Cams\", \"PlasmaCell_Cams\"]"
   ]
  },
  {
   "cell_type": "code",
   "execution_count": 6,
   "id": "0ae63a71-f005-422c-afb4-b32f8da3835f",
   "metadata": {},
   "outputs": [],
   "source": [
    "# Make sure all of the folders actually exist.\n",
    "for folder in folders:\n",
    "    new_path = os.path.join(data_path, folder)\n",
    "    if not os.path.exists(new_path):\n",
    "        raise NotImplementedError(f\"Path {new_path} to folder {folder} does not exist.\\n\")"
   ]
  },
  {
   "cell_type": "code",
   "execution_count": 7,
   "id": "a6e9d04e-48e5-46c9-8085-e019ab67e677",
   "metadata": {},
   "outputs": [],
   "source": [
    "# Template file names at which the data will be stored\n",
    "\n",
    "template_file_names = {\n",
    "    \"DIGICAM\": 'HRM{}.DigiCam_OD{}_{}_{}.csv',\n",
    "    \"PROBE\": 'C{}_SCOPE{}_{}.csv'\n",
    "}"
   ]
  },
  {
   "cell_type": "code",
   "execution_count": 12,
   "id": "7332348d-8749-4e80-9ef4-aae0b88c6c97",
   "metadata": {},
   "outputs": [
    {
     "data": {
      "text/plain": [
       "'Hello, John- I am Hayden'"
      ]
     },
     "execution_count": 12,
     "metadata": {},
     "output_type": "execute_result"
    }
   ],
   "source": [
    "template = \"Hello, {}- I am {}\"\n",
    "template.format(\"John\", \"Hayden\")"
   ]
  },
  {
   "cell_type": "code",
   "execution_count": 11,
   "id": "dafedbb0",
   "metadata": {},
   "outputs": [],
   "source": [
    "def get_HRM_datapaths_dict(shot_nos:List[int], \n",
    "                           cam_no:int, \n",
    "                           gain:int,\n",
    "                           parent_directory:str,\n",
    "                           template_fname='HRM{}.DigiCam_OD{}_{}_{}.csv', \n",
    "                           shotlog_path:str = shotlog_path\n",
    "                          ):\n",
    "    \n",
    "    \"\"\"Creates a dictionary of data paths for the HRMX camera, indexed by shot number- i.e. a dictionary of form\n",
    "    {SHOT NO : \"/path/\"}. This is done when the user supplies a list of shot numbers which they're interested in, as well\n",
    "    as the gain/camera number.\n",
    "    \n",
    "    Parameters\n",
    "    ----------\n",
    "        shot_nos : List[int]\n",
    "            List of integer shot numbers whose data we are interested in.\n",
    "        cam_no\n",
    "        parent_directory\n",
    "        template_fname\n",
    "        shotlog_path : str\n",
    "            Path to the shotlog _AS A .CSV_ !!!\n",
    "    \"\"\"\n",
    "\n",
    "    # Check that the path exists\n",
    "    if not os.path.exists(shotlog_path):\n",
    "        raise NotImplementedError(f\"Shotlog path {shotlog_path} doesn\\'t exist.\")\n",
    "    # Check that the path to the shotlog ends in a .csv\n",
    "    if not shotlog_path.endswith('.csv'):\n",
    "        raise ValueError(f\"Error: shotlog_path should end in .csv, but path provided was {shotlog_path}\")\n",
    "\n",
    "    # Initialize empty data path dictionary\n",
    "    data_path_dict = {}\n",
    "\n",
    "    # Open the .csv as a pandas dataframe\n",
    "    df = pd.read_csv(shotlog_path, delimiter=',')\n",
    "\n",
    "    #Iterate through the dataframe looking for data corresponding to the specified shot numbers.\n",
    "    for i, no in df[\"Shot number\"]:\n",
    "        if no in shot_nos:\n",
    "            timestamp = str(df[\"Global UNIX Timestamp (UTC timezone) of HiRadMat cycle\"][i])\n",
    "            acq_cycle = str(df[\"Acquisition UNIX Timestamp of HiRadMat cycle (UTC timezone)\"][i])\n",
    "\n",
    "            # INITIALIZE THE NAME OF THE FILE\n",
    "            fname = template_fname.format(cam_no, gain, timestamp, acq_cycle)\n",
    "\n",
    "            # CREATE THE NAME OF THE PATH\n",
    "            path = os.path.join(parent_directory, fname)\n",
    "            \n",
    "            data_path_dict[no] = path # add the appropriate data path to the data path dictionary\n",
    "            # using the shot number as the key.\n",
    "        \n",
    "    # Return the path dictionary\n",
    "    return data_path_dict"
   ]
  },
  {
   "cell_type": "code",
   "execution_count": null,
   "id": "d51cb7d7-c1e1-42d4-b2cd-803aedb8151f",
   "metadata": {},
   "outputs": [],
   "source": [
    "def get_scope_datapaths_dict(shot_nos:List[int],\n",
    "                             scope_no:str,\n",
    "                             parent_dir:str,\n",
    "                             template_fname=\"C{}_SCOPE{}_{}.csv\"\n",
    "                             shotlog_path:str=shotlog_path\n",
    "):\n",
    "\"\"\"Creates as "
   ]
  }
 ],
 "metadata": {
  "kernelspec": {
   "display_name": "Python 3",
   "language": "python",
   "name": "python3"
  },
  "language_info": {
   "codemirror_mode": {
    "name": "ipython",
    "version": 3
   },
   "file_extension": ".py",
   "mimetype": "text/x-python",
   "name": "python",
   "nbconvert_exporter": "python",
   "pygments_lexer": "ipython3",
   "version": "3.11.9"
  }
 },
 "nbformat": 4,
 "nbformat_minor": 5
}
