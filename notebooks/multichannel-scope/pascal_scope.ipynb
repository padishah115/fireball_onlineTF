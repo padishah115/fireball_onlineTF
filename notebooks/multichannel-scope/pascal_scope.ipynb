{
 "cells": [
  {
   "cell_type": "code",
   "execution_count": 4,
   "id": "5df97c95",
   "metadata": {},
   "outputs": [],
   "source": [
    "import os\n",
    "import pandas as pd"
   ]
  },
  {
   "cell_type": "code",
   "execution_count": 5,
   "id": "2ae0e9d6",
   "metadata": {},
   "outputs": [],
   "source": [
    "data_path = \"/Users/hayden/Desktop/FIREBALL/HRMT68_data/scope_test/FastScope_TestSave_ALL_20250520173102723.csv\""
   ]
  },
  {
   "cell_type": "code",
   "execution_count": 12,
   "id": "ff71f0cd",
   "metadata": {},
   "outputs": [
    {
     "name": "stderr",
     "output_type": "stream",
     "text": [
      "/var/folders/j5/qqf885v16ps2h__10kf0m2th0000gn/T/ipykernel_63531/3793716626.py:3: FutureWarning: Series.__getitem__ treating keys as positions is deprecated. In a future version, integer keys will always be treated as labels (consistent with DataFrame behavior). To access a value by position, use `ser.iloc[pos]`\n",
      "  N = df[df.columns.values[1]][6]\n",
      "/var/folders/j5/qqf885v16ps2h__10kf0m2th0000gn/T/ipykernel_63531/3793716626.py:4: FutureWarning: Series.__getitem__ treating keys as positions is deprecated. In a future version, integer keys will always be treated as labels (consistent with DataFrame behavior). To access a value by position, use `ser.iloc[pos]`\n",
      "  dt = df[df.columns.values[1]][5]\n"
     ]
    },
    {
     "data": {
      "text/plain": [
       "('10000', '4.00000000e-11')"
      ]
     },
     "execution_count": 12,
     "metadata": {},
     "output_type": "execute_result"
    }
   ],
   "source": [
    "df = pd.read_csv(data_path)\n",
    "\n",
    "N = df[df.columns.values[1]][6]\n",
    "dt = df[df.columns.values[1]][5]\n",
    "\n",
    "N, dt"
   ]
  }
 ],
 "metadata": {
  "kernelspec": {
   "display_name": "Python 3",
   "language": "python",
   "name": "python3"
  },
  "language_info": {
   "codemirror_mode": {
    "name": "ipython",
    "version": 3
   },
   "file_extension": ".py",
   "mimetype": "text/x-python",
   "name": "python",
   "nbconvert_exporter": "python",
   "pygments_lexer": "ipython3",
   "version": "3.11.9"
  }
 },
 "nbformat": 4,
 "nbformat_minor": 5
}
