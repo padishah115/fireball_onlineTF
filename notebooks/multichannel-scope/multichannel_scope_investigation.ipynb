{
 "cells": [
  {
   "cell_type": "markdown",
   "id": "13ea54f2",
   "metadata": {},
   "source": [
    "## Investigating the multiple channels on the oscilloscope data output"
   ]
  },
  {
   "cell_type": "code",
   "execution_count": 2,
   "id": "600c9502",
   "metadata": {},
   "outputs": [],
   "source": [
    "import os"
   ]
  },
  {
   "cell_type": "code",
   "execution_count": null,
   "id": "e4f59bd9",
   "metadata": {},
   "outputs": [],
   "source": [
    "data_path = \"/Users/hayden/Desktop/HRMT64 data\"\n",
    "if not os.path.exists(data_path):\n",
    "    raise ValueError(\"Error: specified data_path doesn't exist\")"
   ]
  }
 ],
 "metadata": {
  "kernelspec": {
   "display_name": "Python 3",
   "language": "python",
   "name": "python3"
  },
  "language_info": {
   "codemirror_mode": {
    "name": "ipython",
    "version": 3
   },
   "file_extension": ".py",
   "mimetype": "text/x-python",
   "name": "python",
   "nbconvert_exporter": "python",
   "pygments_lexer": "ipython3",
   "version": "3.11.9"
  }
 },
 "nbformat": 4,
 "nbformat_minor": 5
}
